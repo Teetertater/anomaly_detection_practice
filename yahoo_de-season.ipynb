{
 "cells": [
  {
   "cell_type": "code",
   "execution_count": 1,
   "metadata": {},
   "outputs": [],
   "source": [
    "import findspark\n",
    "SPARK_HOME = %env SPARK_HOME\n",
    "findspark.init(SPARK_HOME)"
   ]
  },
  {
   "cell_type": "code",
   "execution_count": 2,
   "metadata": {},
   "outputs": [],
   "source": [
    "import numpy as np\n",
    "from matplotlib import pyplot as plt\n",
    "import seaborn as sns\n",
    "sns.set()\n",
    "import warnings\n",
    "warnings.filterwarnings(\"ignore\")\n",
    "plt.rcParams.update({'xtick.labelsize': 10, 'ytick.labelsize': 10, 'axes.titlesize': 0, 'figure.figsize' : (4,3)})\n",
    "\n",
    "import os\n",
    "from os import listdir\n",
    "from functools import reduce\n",
    "import sys\n",
    "\n",
    "from pyspark.sql.dataframe import DataFrame\n",
    "from pyspark.sql import SparkSession\n",
    "from pyspark.sql import functions as F\n",
    "from pyspark.sql.types import StructType,StructField, StringType, IntegerType , BooleanType, DoubleType\n",
    "from pyspark.sql.window import Window\n",
    "\n",
    "from pyspark.ml.evaluation import BinaryClassificationEvaluator\n",
    "\n",
    "spark = SparkSession.builder.appName('yahoo').getOrCreate()\n",
    "sc = spark.sparkContext"
   ]
  },
  {
   "cell_type": "code",
   "execution_count": 121,
   "metadata": {},
   "outputs": [],
   "source": [
    "import mlflow\n",
    "from mlflow import log_metric, log_param, log_artifact, pyfunc\n",
    "from mlflow.pyfunc import PythonModel\n",
    "\n",
    "\"\"\"\n",
    "mlflow server \\\n",
    "    --backend-store-uri sqlite:///mlflow.db \\\n",
    "    --default-artifact-root ./artifacts \\\n",
    "    --host 0.0.0.0\n",
    "\"\"\"\n",
    "\n",
    "mlflow.set_tracking_uri(\"http://localhost:5000\")\n",
    "mlflow.set_experiment(\"yahoo\")"
   ]
  },
  {
   "cell_type": "markdown",
   "metadata": {},
   "source": [
    "### File imports and EDA"
   ]
  },
  {
   "cell_type": "code",
   "execution_count": 66,
   "metadata": {},
   "outputs": [
    {
     "data": {
      "text/plain": [
       "30"
      ]
     },
     "execution_count": 66,
     "metadata": {},
     "output_type": "execute_result"
    }
   ],
   "source": [
    "mainpath = \"yahoo_data/A2BENCHMARK/\"\n",
    "np.random.seed(111)\n",
    "all_files = [f.name for f in os.scandir(mainpath) if f.is_file()]\n",
    "test_files = np.random.choice(all_files, 30, replace=False)\n",
    "[os.rename(mainpath + t, mainpath + \"train/\" + t) for t in  (set(all_files)-set(test_files))]\n",
    "[os.rename(mainpath + t, mainpath + \"test/\" + t) for t in test_files]\n",
    "len(test_files)"
   ]
  },
  {
   "cell_type": "code",
   "execution_count": 3,
   "metadata": {},
   "outputs": [
    {
     "name": "stdout",
     "output_type": "stream",
     "text": [
      "root\n",
      " |-- timestamp: integer (nullable = true)\n",
      " |-- value: double (nullable = true)\n",
      " |-- is_anomaly: integer (nullable = true)\n",
      "\n",
      "+----------+-----------------+----------+\n",
      "|timestamp |value            |is_anomaly|\n",
      "+----------+-----------------+----------+\n",
      "|1416726000|-281.129226660013|0         |\n",
      "|1416729600|141.363496042075 |0         |\n",
      "|1416733200|-261.277613349315|0         |\n",
      "|1416736800|891.936445176684 |0         |\n",
      "|1416740400|377.682139002056 |0         |\n",
      "+----------+-----------------+----------+\n",
      "only showing top 5 rows\n",
      "\n"
     ]
    }
   ],
   "source": [
    "mainpath = \"yahoo_data/A2BENCHMARK/\"\n",
    "df0 = spark.read.options(header='true', inferschema='true').csv(mainpath+\"/train/synthetic_45.csv\")\n",
    "df0.printSchema()\n",
    "df0.show(5,False)"
   ]
  },
  {
   "cell_type": "markdown",
   "metadata": {},
   "source": [
    "### Feature Engineering"
   ]
  },
  {
   "cell_type": "code",
   "execution_count": 4,
   "metadata": {},
   "outputs": [],
   "source": [
    "from statsmodels.graphics.tsaplots import plot_acf, plot_pacf\n",
    "from statsmodels.tsa.stattools import adfuller"
   ]
  },
  {
   "cell_type": "code",
   "execution_count": 81,
   "metadata": {},
   "outputs": [
    {
     "data": {
      "image/png": "[encoded data removed]",
      "text/plain": [
       "<Figure size 432x288 with 1 Axes>"
      ]
     },
     "metadata": {
      "needs_background": "light"
     },
     "output_type": "display_data"
    }
   ],
   "source": [
    "%matplotlib inline\n",
    "npdf0 = df0.toPandas().value.to_numpy()\n",
    "p = plt.plot(npdf0)"
   ]
  },
  {
   "cell_type": "code",
   "execution_count": 6,
   "metadata": {},
   "outputs": [
    {
     "data": {
      "application/vnd.jupyter.widget-view+json": {
       "model_id": "b8f7422b5886415ea3c3f6c557aa5cb4",
       "version_major": 2,
       "version_minor": 0
      },
      "text/plain": [
       "Canvas(toolbar=Toolbar(toolitems=[('Home', 'Reset original view', 'home', 'home'), ('Back', 'Back to previous …"
      ]
     },
     "metadata": {},
     "output_type": "display_data"
    },
    {
     "data": {
      "text/plain": [
       "<matplotlib.lines.Line2D at 0x7f6b8d241650>"
      ]
     },
     "execution_count": 6,
     "metadata": {},
     "output_type": "execute_result"
    }
   ],
   "source": [
    "%matplotlib widget\n",
    "import statsmodels as sm\n",
    "acf, ci = sm.tsa.stattools.acf(npdf0, alpha=0.05, nlags=500)\n",
    "plt.plot(acf)[0]"
   ]
  },
  {
   "cell_type": "code",
   "execution_count": 18,
   "metadata": {},
   "outputs": [
    {
     "data": {
      "text/plain": [
       "array([ 77, 154, 227, 316, 401, 472])"
      ]
     },
     "execution_count": 18,
     "metadata": {},
     "output_type": "execute_result"
    }
   ],
   "source": [
    "from scipy.signal import find_peaks\n",
    "find_peaks(acf, distance=50)[0]"
   ]
  },
  {
   "cell_type": "code",
   "execution_count": 40,
   "metadata": {},
   "outputs": [
    {
     "data": {
      "text/plain": [
       "array([ 77, 154, 227, 316, 401, 472])"
      ]
     },
     "execution_count": 40,
     "metadata": {},
     "output_type": "execute_result"
    }
   ],
   "source": [
    "acf_peaks = find_peaks(acf, distance=50)[0]\n",
    "acf_peaks"
   ]
  },
  {
   "cell_type": "code",
   "execution_count": 44,
   "metadata": {},
   "outputs": [
    {
     "data": {
      "text/plain": [
       "array([-0.42976709,  0.68623087, -0.38189469,  0.55761358, -0.39064866,\n",
       "        0.42418328])"
      ]
     },
     "execution_count": 44,
     "metadata": {},
     "output_type": "execute_result"
    }
   ],
   "source": [
    "acf[acf_peaks]"
   ]
  },
  {
   "cell_type": "code",
   "execution_count": 42,
   "metadata": {},
   "outputs": [
    {
     "data": {
      "text/plain": [
       "154"
      ]
     },
     "execution_count": 42,
     "metadata": {},
     "output_type": "execute_result"
    }
   ],
   "source": [
    "acf_peaks[np.argmax(acf[acf_peaks])]"
   ]
  },
  {
   "cell_type": "code",
   "execution_count": 72,
   "metadata": {},
   "outputs": [
    {
     "data": {
      "text/plain": [
       "472"
      ]
     },
     "execution_count": 72,
     "metadata": {},
     "output_type": "execute_result"
    }
   ],
   "source": [
    "acf_peaks[1::2][-1]"
   ]
  },
  {
   "cell_type": "code",
   "execution_count": 29,
   "metadata": {},
   "outputs": [],
   "source": [
    "%matplotlib inline\n",
    "\n",
    "'''\n",
    "This function finds the median of each point at a certain interval k. \n",
    "\n",
    "Iterates over a numpy array, finds every kth point, calculates the median, and does this for every point in the array.\n",
    "This function is useful in periodic differencing when outliers are present (so the outliers do not get subtracted).\n",
    "'''\n",
    "def periodic_median(arr, k):\n",
    "    l = arr.shape[0]\n",
    "    newarr = np.array([0]*l)\n",
    "    for i,e in enumerate(arr):\n",
    "        indices = range(i,l+i)\n",
    "        newarr[i] = np.median(arr.take(indices, mode='wrap')[::k])\n",
    "    return newarr"
   ]
  },
  {
   "cell_type": "code",
   "execution_count": 66,
   "metadata": {},
   "outputs": [
    {
     "data": {
      "text/plain": [
       "[<matplotlib.lines.Line2D at 0x7f6b824355d0>]"
      ]
     },
     "execution_count": 66,
     "metadata": {},
     "output_type": "execute_result"
    },
    {
     "data": {
      "image/png": "[encoded data removed]",
      "text/plain": [
       "<Figure size 432x288 with 1 Axes>"
      ]
     },
     "metadata": {
      "needs_background": "light"
     },
     "output_type": "display_data"
    }
   ],
   "source": [
    "plt.plot(npdf0)"
   ]
  },
  {
   "cell_type": "code",
   "execution_count": 73,
   "metadata": {},
   "outputs": [
    {
     "data": {
      "text/plain": [
       "[<matplotlib.lines.Line2D at 0x7f6b82312d50>]"
      ]
     },
     "execution_count": 73,
     "metadata": {},
     "output_type": "execute_result"
    },
    {
     "data": {
      "image/png": "[encoded data removed]",
      "text/plain": [
       "<Figure size 432x288 with 1 Axes>"
      ]
     },
     "metadata": {
      "needs_background": "light"
     },
     "output_type": "display_data"
    }
   ],
   "source": [
    "%matplotlib inline\n",
    "k = acf_peaks[1::2][-1]\n",
    "npdf0 = df0.toPandas().value.to_numpy()\n",
    "sub = np.subtract(npdf0, periodic_median(npdf0, k))\n",
    "plt.plot(sub)"
   ]
  },
  {
   "cell_type": "code",
   "execution_count": 74,
   "metadata": {},
   "outputs": [
    {
     "data": {
      "text/plain": [
       "[<matplotlib.lines.Line2D at 0x7f6b82281550>]"
      ]
     },
     "execution_count": 74,
     "metadata": {},
     "output_type": "execute_result"
    },
    {
     "data": {
      "image/png": "[encoded data removed]",
      "text/plain": [
       "<Figure size 432x288 with 1 Axes>"
      ]
     },
     "metadata": {
      "needs_background": "light"
     },
     "output_type": "display_data"
    }
   ],
   "source": [
    "plt.plot(np.diff(sub))"
   ]
  },
  {
   "cell_type": "code",
   "execution_count": 80,
   "metadata": {},
   "outputs": [
    {
     "data": {
      "text/plain": [
       "1"
      ]
     },
     "execution_count": 80,
     "metadata": {},
     "output_type": "execute_result"
    }
   ],
   "source": [
    "len(df0.toPandas()[df0.toPandas().is_anomaly == 1])"
   ]
  },
  {
   "cell_type": "code",
   "execution_count": 83,
   "metadata": {},
   "outputs": [],
   "source": [
    "train_dfs = [spark.read.options(header='true', inferschema='true').csv(mainpath + f\"train/{csv}\") for csv in os.listdir(mainpath + \"train/\")]\n",
    "test_dfs = [spark.read.options(header='true', inferschema='true').csv(mainpath + f\"test/{csv}\") for csv in os.listdir(mainpath + \"test/\")]"
   ]
  },
  {
   "cell_type": "code",
   "execution_count": 84,
   "metadata": {},
   "outputs": [
    {
     "data": {
      "text/plain": [
       "<matplotlib.axes._subplots.AxesSubplot at 0x7f6b8216de10>"
      ]
     },
     "execution_count": 84,
     "metadata": {},
     "output_type": "execute_result"
    },
    {
     "data": {
      "image/png": "[encoded data removed]",
      "text/plain": [
       "<Figure size 432x288 with 1 Axes>"
      ]
     },
     "metadata": {
      "needs_background": "light"
     },
     "output_type": "display_data"
    }
   ],
   "source": [
    "%matplotlib inline\n",
    "train_dfs[-1].toPandas().value.plot()"
   ]
  },
  {
   "cell_type": "code",
   "execution_count": 100,
   "metadata": {},
   "outputs": [],
   "source": [
    "import pandas as pd"
   ]
  },
  {
   "cell_type": "code",
   "execution_count": 104,
   "metadata": {},
   "outputs": [],
   "source": [
    "@F.pandas_udf('double')\n",
    "def remove_season(col):\n",
    "    acf_peaks = find_peaks(acf, distance=50)[0]      #Get last maximum from acf plot\n",
    "    k = acf_peaks[1::2][-1]                          #Use this maxima as season\n",
    "    arr = col.to_numpy()\n",
    "    sub = np.subtract(arr, periodic_median(arr, k))  #Subtract season from original array\n",
    "    return pd.Series(sub)"
   ]
  },
  {
   "cell_type": "code",
   "execution_count": 107,
   "metadata": {},
   "outputs": [
    {
     "data": {
      "text/html": [
       "<div>\n",
       "<style scoped>\n",
       "    .dataframe tbody tr th:only-of-type {\n",
       "        vertical-align: middle;\n",
       "    }\n",
       "\n",
       "    .dataframe tbody tr th {\n",
       "        vertical-align: top;\n",
       "    }\n",
       "\n",
       "    .dataframe thead th {\n",
       "        text-align: right;\n",
       "    }\n",
       "</style>\n",
       "<table border=\"1\" class=\"dataframe\">\n",
       "  <thead>\n",
       "    <tr style=\"text-align: right;\">\n",
       "      <th></th>\n",
       "      <th>timestamp</th>\n",
       "      <th>value</th>\n",
       "      <th>is_anomaly</th>\n",
       "      <th>sub</th>\n",
       "    </tr>\n",
       "  </thead>\n",
       "  <tbody>\n",
       "    <tr>\n",
       "      <td>0</td>\n",
       "      <td>1416726000</td>\n",
       "      <td>-281.129227</td>\n",
       "      <td>0</td>\n",
       "      <td>-927.129227</td>\n",
       "    </tr>\n",
       "    <tr>\n",
       "      <td>1</td>\n",
       "      <td>1416729600</td>\n",
       "      <td>141.363496</td>\n",
       "      <td>0</td>\n",
       "      <td>-1080.636504</td>\n",
       "    </tr>\n",
       "    <tr>\n",
       "      <td>2</td>\n",
       "      <td>1416733200</td>\n",
       "      <td>-261.277613</td>\n",
       "      <td>0</td>\n",
       "      <td>-1866.277613</td>\n",
       "    </tr>\n",
       "    <tr>\n",
       "      <td>3</td>\n",
       "      <td>1416736800</td>\n",
       "      <td>891.936445</td>\n",
       "      <td>0</td>\n",
       "      <td>-735.063555</td>\n",
       "    </tr>\n",
       "    <tr>\n",
       "      <td>4</td>\n",
       "      <td>1416740400</td>\n",
       "      <td>377.682139</td>\n",
       "      <td>0</td>\n",
       "      <td>-703.317861</td>\n",
       "    </tr>\n",
       "  </tbody>\n",
       "</table>\n",
       "</div>"
      ],
      "text/plain": [
       "    timestamp       value  is_anomaly          sub\n",
       "0  1416726000 -281.129227           0  -927.129227\n",
       "1  1416729600  141.363496           0 -1080.636504\n",
       "2  1416733200 -261.277613           0 -1866.277613\n",
       "3  1416736800  891.936445           0  -735.063555\n",
       "4  1416740400  377.682139           0  -703.317861"
      ]
     },
     "execution_count": 107,
     "metadata": {},
     "output_type": "execute_result"
    }
   ],
   "source": [
    "df0.withColumn(\"sub\", remove_season(F.col(\"value\"))).limit(5).toPandas()"
   ]
  },
  {
   "cell_type": "code",
   "execution_count": 114,
   "metadata": {},
   "outputs": [],
   "source": [
    "def prepare_df(df: DataFrame) -> DataFrame:\n",
    "    \n",
    "    outdf = df.withColumn(\"sub\",  remove_season(F.col(\"value\")))\n",
    "    \n",
    "    ts_window = Window.partitionBy().orderBy(\"timestamp\")\n",
    "    outdf = outdf.withColumn(\"value_lag1\", F.lag(F.col(\"sub\")).over(ts_window))\n",
    "    outdf = (outdf.withColumn(\"value_diff1\", F.when(F.isnull(outdf.value - outdf.value_lag1), 0)\n",
    "                                              .otherwise(outdf.value - outdf.value_lag1)))\n",
    "    \n",
    "    #2nd difference\n",
    "    outdf = outdf.withColumn(\"value_diff1_lag1\", F.lag(F.col(\"value_diff1\")).over(ts_window))\n",
    "    outdf = (outdf.withColumn(\"value_diff2\", F.when(F.isnull(outdf.value_diff1 - outdf.value_diff1_lag1), 0)\n",
    "                                              .otherwise(outdf.value_diff1 - outdf.value_diff1_lag1)))\n",
    "    \n",
    "    #outdf = outdf.na.fill(0)\n",
    "    # Use backfill instead of na\n",
    "    bf_window = Window.orderBy('timestamp').rowsBetween(0, sys.maxsize)\n",
    "    outdf = (outdf.withColumn('value_lag1', F.first(outdf['value_lag1'], ignorenulls=True).over(bf_window))\n",
    "                  .withColumn('value_diff1_lag1', F.first(outdf['value_diff1_lag1'], ignorenulls=True).over(bf_window)))\n",
    "                             \n",
    "    quantiles = outdf.approxQuantile(\"value_diff1\", [0.25,0.75],0.05)\n",
    "    outdf = (outdf.join(outdf.agg(F.stddev(F.col(\"value_diff1\")).alias(\"std\")))\n",
    "                  .withColumn(\"q1\", F.lit(quantiles[0]))\n",
    "                  .withColumn(\"q3\", F.lit(quantiles[1])))\n",
    "                \n",
    "    quantiles = outdf.approxQuantile(\"value_diff2\", [0.25,0.75],0.05)\n",
    "    outdf = (outdf.join(outdf.agg(F.stddev(F.col(\"value_diff2\")).alias(\"std2\")))\n",
    "              .withColumn(\"q1_2\", F.lit(quantiles[0]))\n",
    "              .withColumn(\"q3_2\", F.lit(quantiles[1])))\n",
    "    \n",
    "    \n",
    "\n",
    "    return outdf"
   ]
  },
  {
   "cell_type": "code",
   "execution_count": 115,
   "metadata": {},
   "outputs": [
    {
     "data": {
      "text/html": [
       "<div>\n",
       "<style scoped>\n",
       "    .dataframe tbody tr th:only-of-type {\n",
       "        vertical-align: middle;\n",
       "    }\n",
       "\n",
       "    .dataframe tbody tr th {\n",
       "        vertical-align: top;\n",
       "    }\n",
       "\n",
       "    .dataframe thead th {\n",
       "        text-align: right;\n",
       "    }\n",
       "</style>\n",
       "<table border=\"1\" class=\"dataframe\">\n",
       "  <thead>\n",
       "    <tr style=\"text-align: right;\">\n",
       "      <th></th>\n",
       "      <th>timestamp</th>\n",
       "      <th>value</th>\n",
       "      <th>is_anomaly</th>\n",
       "      <th>sub</th>\n",
       "      <th>value_lag1</th>\n",
       "      <th>value_diff1</th>\n",
       "      <th>value_diff1_lag1</th>\n",
       "      <th>value_diff2</th>\n",
       "      <th>std</th>\n",
       "      <th>q1</th>\n",
       "      <th>q3</th>\n",
       "      <th>std2</th>\n",
       "      <th>q1_2</th>\n",
       "      <th>q3_2</th>\n",
       "    </tr>\n",
       "  </thead>\n",
       "  <tbody>\n",
       "    <tr>\n",
       "      <td>0</td>\n",
       "      <td>1416726000</td>\n",
       "      <td>-281.129227</td>\n",
       "      <td>0</td>\n",
       "      <td>-927.129227</td>\n",
       "      <td>-927.129227</td>\n",
       "      <td>0.000000</td>\n",
       "      <td>0.000000</td>\n",
       "      <td>0.000000</td>\n",
       "      <td>1145.052181</td>\n",
       "      <td>127.385892</td>\n",
       "      <td>1692.635774</td>\n",
       "      <td>1036.929213</td>\n",
       "      <td>-669.119811</td>\n",
       "      <td>537.791946</td>\n",
       "    </tr>\n",
       "    <tr>\n",
       "      <td>1</td>\n",
       "      <td>1416729600</td>\n",
       "      <td>141.363496</td>\n",
       "      <td>0</td>\n",
       "      <td>-1080.636504</td>\n",
       "      <td>-927.129227</td>\n",
       "      <td>1068.492723</td>\n",
       "      <td>0.000000</td>\n",
       "      <td>1068.492723</td>\n",
       "      <td>1145.052181</td>\n",
       "      <td>127.385892</td>\n",
       "      <td>1692.635774</td>\n",
       "      <td>1036.929213</td>\n",
       "      <td>-669.119811</td>\n",
       "      <td>537.791946</td>\n",
       "    </tr>\n",
       "    <tr>\n",
       "      <td>2</td>\n",
       "      <td>1416733200</td>\n",
       "      <td>-261.277613</td>\n",
       "      <td>0</td>\n",
       "      <td>-1866.277613</td>\n",
       "      <td>-1080.636504</td>\n",
       "      <td>819.358891</td>\n",
       "      <td>1068.492723</td>\n",
       "      <td>-249.133832</td>\n",
       "      <td>1145.052181</td>\n",
       "      <td>127.385892</td>\n",
       "      <td>1692.635774</td>\n",
       "      <td>1036.929213</td>\n",
       "      <td>-669.119811</td>\n",
       "      <td>537.791946</td>\n",
       "    </tr>\n",
       "  </tbody>\n",
       "</table>\n",
       "</div>"
      ],
      "text/plain": [
       "    timestamp       value  is_anomaly          sub   value_lag1  value_diff1  \\\n",
       "0  1416726000 -281.129227           0  -927.129227  -927.129227     0.000000   \n",
       "1  1416729600  141.363496           0 -1080.636504  -927.129227  1068.492723   \n",
       "2  1416733200 -261.277613           0 -1866.277613 -1080.636504   819.358891   \n",
       "\n",
       "   value_diff1_lag1  value_diff2          std          q1           q3  \\\n",
       "0          0.000000     0.000000  1145.052181  127.385892  1692.635774   \n",
       "1          0.000000  1068.492723  1145.052181  127.385892  1692.635774   \n",
       "2       1068.492723  -249.133832  1145.052181  127.385892  1692.635774   \n",
       "\n",
       "          std2        q1_2        q3_2  \n",
       "0  1036.929213 -669.119811  537.791946  \n",
       "1  1036.929213 -669.119811  537.791946  \n",
       "2  1036.929213 -669.119811  537.791946  "
      ]
     },
     "execution_count": 115,
     "metadata": {},
     "output_type": "execute_result"
    }
   ],
   "source": [
    "prepare_df(df0).limit(3).toPandas()"
   ]
  },
  {
   "cell_type": "code",
   "execution_count": 118,
   "metadata": {},
   "outputs": [
    {
     "data": {
      "text/plain": [
       "<matplotlib.axes._subplots.AxesSubplot at 0x7f6b80a4e710>"
      ]
     },
     "execution_count": 118,
     "metadata": {},
     "output_type": "execute_result"
    },
    {
     "data": {
      "image/png": "[encoded data removed]",
      "text/plain": [
       "<Figure size 432x288 with 1 Axes>"
      ]
     },
     "metadata": {
      "needs_background": "light"
     },
     "output_type": "display_data"
    }
   ],
   "source": [
    "%matplotlib inline\n",
    "prepare_df(train_dfs[45]).toPandas().value_diff1.plot()"
   ]
  },
  {
   "cell_type": "code",
   "execution_count": 119,
   "metadata": {},
   "outputs": [
    {
     "data": {
      "text/plain": [
       "<matplotlib.axes._subplots.AxesSubplot at 0x7f6b7f968f50>"
      ]
     },
     "execution_count": 119,
     "metadata": {},
     "output_type": "execute_result"
    },
    {
     "data": {
      "image/png": "[encoded data removed]",
      "text/plain": [
       "<Figure size 432x288 with 1 Axes>"
      ]
     },
     "metadata": {
      "needs_background": "light"
     },
     "output_type": "display_data"
    }
   ],
   "source": [
    "prepare_df(train_dfs[45]).toPandas().value_diff2.plot()"
   ]
  },
  {
   "cell_type": "code",
   "execution_count": 122,
   "metadata": {},
   "outputs": [],
   "source": [
    "prepared_train_dfs = list(map(prepare_df, train_dfs))\n",
    "prepared_test_dfs = list(map(prepare_df, test_dfs))\n",
    "train_df = reduce(DataFrame.unionAll, prepared_train_dfs)\n",
    "test_df = reduce(DataFrame.unionAll, prepared_test_dfs)"
   ]
  },
  {
   "cell_type": "markdown",
   "metadata": {},
   "source": [
    "### Model Definition and udf wrapping"
   ]
  },
  {
   "cell_type": "code",
   "execution_count": 147,
   "metadata": {},
   "outputs": [],
   "source": [
    "def predict_from_quants(value_diff1: float, q1: float, q3: float, value_diff2: float, q1_2: float, q3_2: float) -> float:\n",
    "    threshold, threshold2 = (3.4, 1.5)\n",
    "    Q1, Q1_2 = (float(q1), float(q1_2))\n",
    "    Q3, Q3_2 = (float(q3), float(q3_2))\n",
    "    IQR, IQR_2 = (Q3 - Q1, Q3_2 - Q1_2)\n",
    "    if (float(value_diff1) < (Q1 - IQR*threshold) or float(value_diff1) > Q3 + IQR*threshold or\n",
    "        float(value_diff2) < (Q1_2 - IQR_2*threshold2) or float(value_diff2) > Q3_2 + IQR_2*threshold2):\n",
    "        return 1.0\n",
    "    else:\n",
    "        return 0.0\n",
    "\n",
    "class UDFWrapper(PythonModel):\n",
    "    def __init__(self, estimator=None):\n",
    "        return None\n",
    "    def predict(self, context, X):\n",
    "        return np.array(predict_from_quants(*X.to_numpy().T))"
   ]
  },
  {
   "cell_type": "code",
   "execution_count": 148,
   "metadata": {},
   "outputs": [],
   "source": [
    "from typing import Callable\n",
    "\n",
    "def apply_prediction(df: DataFrame, prediction_function: Callable, columns):\n",
    "    return df.withColumn(\"prediction\", F.udf(prediction_function, DoubleType())(*columns))\n",
    "\n",
    "# Load model from registry\n",
    "def apply_prediction_saved(df: DataFrame, model_path: str = \"models:/yahoo_model_quant/Staging\", columns = [\"value_diff1\", \"q1\", \"q3\"]):\n",
    "    prediction_udf = mlflow.pyfunc.spark_udf(spark, model_path)\n",
    "    return df.withColumn('prediction', prediction_udf(*columns))"
   ]
  },
  {
   "cell_type": "code",
   "execution_count": 125,
   "metadata": {},
   "outputs": [
    {
     "data": {
      "text/html": [
       "<div>\n",
       "<style scoped>\n",
       "    .dataframe tbody tr th:only-of-type {\n",
       "        vertical-align: middle;\n",
       "    }\n",
       "\n",
       "    .dataframe tbody tr th {\n",
       "        vertical-align: top;\n",
       "    }\n",
       "\n",
       "    .dataframe thead th {\n",
       "        text-align: right;\n",
       "    }\n",
       "</style>\n",
       "<table border=\"1\" class=\"dataframe\">\n",
       "  <thead>\n",
       "    <tr style=\"text-align: right;\">\n",
       "      <th></th>\n",
       "      <th>timestamp</th>\n",
       "      <th>value</th>\n",
       "      <th>is_anomaly</th>\n",
       "      <th>sub</th>\n",
       "      <th>value_lag1</th>\n",
       "      <th>value_diff1</th>\n",
       "      <th>value_diff1_lag1</th>\n",
       "      <th>value_diff2</th>\n",
       "      <th>std</th>\n",
       "      <th>q1</th>\n",
       "      <th>q3</th>\n",
       "      <th>std2</th>\n",
       "      <th>q1_2</th>\n",
       "      <th>q3_2</th>\n",
       "      <th>prediction</th>\n",
       "    </tr>\n",
       "  </thead>\n",
       "  <tbody>\n",
       "    <tr>\n",
       "      <td>0</td>\n",
       "      <td>1416726000</td>\n",
       "      <td>-281.129227</td>\n",
       "      <td>0</td>\n",
       "      <td>-927.129227</td>\n",
       "      <td>-927.129227</td>\n",
       "      <td>0.000000</td>\n",
       "      <td>0.000000</td>\n",
       "      <td>0.000000</td>\n",
       "      <td>1145.052181</td>\n",
       "      <td>127.385892</td>\n",
       "      <td>1692.635774</td>\n",
       "      <td>1036.929213</td>\n",
       "      <td>-669.119811</td>\n",
       "      <td>537.791946</td>\n",
       "      <td>0.0</td>\n",
       "    </tr>\n",
       "    <tr>\n",
       "      <td>1</td>\n",
       "      <td>1416729600</td>\n",
       "      <td>141.363496</td>\n",
       "      <td>0</td>\n",
       "      <td>-1080.636504</td>\n",
       "      <td>-927.129227</td>\n",
       "      <td>1068.492723</td>\n",
       "      <td>0.000000</td>\n",
       "      <td>1068.492723</td>\n",
       "      <td>1145.052181</td>\n",
       "      <td>127.385892</td>\n",
       "      <td>1692.635774</td>\n",
       "      <td>1036.929213</td>\n",
       "      <td>-669.119811</td>\n",
       "      <td>537.791946</td>\n",
       "      <td>0.0</td>\n",
       "    </tr>\n",
       "    <tr>\n",
       "      <td>2</td>\n",
       "      <td>1416733200</td>\n",
       "      <td>-261.277613</td>\n",
       "      <td>0</td>\n",
       "      <td>-1866.277613</td>\n",
       "      <td>-1080.636504</td>\n",
       "      <td>819.358891</td>\n",
       "      <td>1068.492723</td>\n",
       "      <td>-249.133832</td>\n",
       "      <td>1145.052181</td>\n",
       "      <td>127.385892</td>\n",
       "      <td>1692.635774</td>\n",
       "      <td>1036.929213</td>\n",
       "      <td>-669.119811</td>\n",
       "      <td>537.791946</td>\n",
       "      <td>0.0</td>\n",
       "    </tr>\n",
       "  </tbody>\n",
       "</table>\n",
       "</div>"
      ],
      "text/plain": [
       "    timestamp       value  is_anomaly          sub   value_lag1  value_diff1  \\\n",
       "0  1416726000 -281.129227           0  -927.129227  -927.129227     0.000000   \n",
       "1  1416729600  141.363496           0 -1080.636504  -927.129227  1068.492723   \n",
       "2  1416733200 -261.277613           0 -1866.277613 -1080.636504   819.358891   \n",
       "\n",
       "   value_diff1_lag1  value_diff2          std          q1           q3  \\\n",
       "0          0.000000     0.000000  1145.052181  127.385892  1692.635774   \n",
       "1          0.000000  1068.492723  1145.052181  127.385892  1692.635774   \n",
       "2       1068.492723  -249.133832  1145.052181  127.385892  1692.635774   \n",
       "\n",
       "          std2        q1_2        q3_2  prediction  \n",
       "0  1036.929213 -669.119811  537.791946         0.0  \n",
       "1  1036.929213 -669.119811  537.791946         0.0  \n",
       "2  1036.929213 -669.119811  537.791946         0.0  "
      ]
     },
     "execution_count": 125,
     "metadata": {},
     "output_type": "execute_result"
    }
   ],
   "source": [
    "apply_prediction(prepare_df(df0), predict_from_quants, [\"value_diff1\", \"q1\", \"q3\", \"value_diff2\", \"q1_2\", \"q3_2\"]).limit(3).toPandas()"
   ]
  },
  {
   "cell_type": "code",
   "execution_count": 25,
   "metadata": {},
   "outputs": [
    {
     "data": {
      "text/html": [
       "<div>\n",
       "<style scoped>\n",
       "    .dataframe tbody tr th:only-of-type {\n",
       "        vertical-align: middle;\n",
       "    }\n",
       "\n",
       "    .dataframe tbody tr th {\n",
       "        vertical-align: top;\n",
       "    }\n",
       "\n",
       "    .dataframe thead th {\n",
       "        text-align: right;\n",
       "    }\n",
       "</style>\n",
       "<table border=\"1\" class=\"dataframe\">\n",
       "  <thead>\n",
       "    <tr style=\"text-align: right;\">\n",
       "      <th></th>\n",
       "      <th>timestamp</th>\n",
       "      <th>value</th>\n",
       "      <th>is_anomaly</th>\n",
       "      <th>value_lag1</th>\n",
       "      <th>value_diff1</th>\n",
       "      <th>value_diff1_lag1</th>\n",
       "      <th>value_diff2</th>\n",
       "      <th>std</th>\n",
       "      <th>q1</th>\n",
       "      <th>q3</th>\n",
       "      <th>std2</th>\n",
       "      <th>q1_2</th>\n",
       "      <th>q3_2</th>\n",
       "      <th>prediction</th>\n",
       "    </tr>\n",
       "  </thead>\n",
       "  <tbody>\n",
       "    <tr>\n",
       "      <td>0</td>\n",
       "      <td>1416726000</td>\n",
       "      <td>13.894031</td>\n",
       "      <td>0</td>\n",
       "      <td>13.894031</td>\n",
       "      <td>0.000000</td>\n",
       "      <td>0.000000</td>\n",
       "      <td>0.000000</td>\n",
       "      <td>109.074353</td>\n",
       "      <td>-25.483616</td>\n",
       "      <td>20.314604</td>\n",
       "      <td>150.285365</td>\n",
       "      <td>-19.08794</td>\n",
       "      <td>15.371152</td>\n",
       "      <td>0.0</td>\n",
       "    </tr>\n",
       "    <tr>\n",
       "      <td>1</td>\n",
       "      <td>1416729600</td>\n",
       "      <td>33.578274</td>\n",
       "      <td>0</td>\n",
       "      <td>13.894031</td>\n",
       "      <td>19.684242</td>\n",
       "      <td>0.000000</td>\n",
       "      <td>19.684242</td>\n",
       "      <td>109.074353</td>\n",
       "      <td>-25.483616</td>\n",
       "      <td>20.314604</td>\n",
       "      <td>150.285365</td>\n",
       "      <td>-19.08794</td>\n",
       "      <td>15.371152</td>\n",
       "      <td>0.0</td>\n",
       "    </tr>\n",
       "    <tr>\n",
       "      <td>2</td>\n",
       "      <td>1416733200</td>\n",
       "      <td>88.933746</td>\n",
       "      <td>0</td>\n",
       "      <td>33.578274</td>\n",
       "      <td>55.355473</td>\n",
       "      <td>19.684242</td>\n",
       "      <td>35.671230</td>\n",
       "      <td>109.074353</td>\n",
       "      <td>-25.483616</td>\n",
       "      <td>20.314604</td>\n",
       "      <td>150.285365</td>\n",
       "      <td>-19.08794</td>\n",
       "      <td>15.371152</td>\n",
       "      <td>0.0</td>\n",
       "    </tr>\n",
       "  </tbody>\n",
       "</table>\n",
       "</div>"
      ],
      "text/plain": [
       "    timestamp      value  is_anomaly  value_lag1  value_diff1  \\\n",
       "0  1416726000  13.894031           0   13.894031     0.000000   \n",
       "1  1416729600  33.578274           0   13.894031    19.684242   \n",
       "2  1416733200  88.933746           0   33.578274    55.355473   \n",
       "\n",
       "   value_diff1_lag1  value_diff2         std         q1         q3  \\\n",
       "0          0.000000     0.000000  109.074353 -25.483616  20.314604   \n",
       "1          0.000000    19.684242  109.074353 -25.483616  20.314604   \n",
       "2         19.684242    35.671230  109.074353 -25.483616  20.314604   \n",
       "\n",
       "         std2      q1_2       q3_2  prediction  \n",
       "0  150.285365 -19.08794  15.371152         0.0  \n",
       "1  150.285365 -19.08794  15.371152         0.0  \n",
       "2  150.285365 -19.08794  15.371152         0.0  "
      ]
     },
     "execution_count": 25,
     "metadata": {},
     "output_type": "execute_result"
    }
   ],
   "source": [
    "apply_prediction_saved(prepare_df(df0)).limit(3).toPandas()"
   ]
  },
  {
   "cell_type": "code",
   "execution_count": 149,
   "metadata": {},
   "outputs": [
    {
     "name": "stdout",
     "output_type": "stream",
     "text": [
      "0.8769673027092945\n"
     ]
    },
    {
     "name": "stderr",
     "output_type": "stream",
     "text": [
      "Registered model 'yahoo_model_deseason' already exists. Creating a new version of this model...\n",
      "Created version '9' of model 'yahoo_model_deseason'.\n"
     ]
    }
   ],
   "source": [
    "evaluator = BinaryClassificationEvaluator().setRawPredictionCol(\"prediction\").setLabelCol(\"is_anomaly\")\n",
    "result = evaluator.evaluate(apply_prediction(test_df, predict_from_quants, [\"value_diff1\", \"q1\", \"q3\", \"value_diff2\", \"q1_2\", \"q3_2\"]))\n",
    "print(result)\n",
    "log_artifact(\"yahoo.ipynb\", \"jup_logs\")\n",
    "log_param(\"type\", \"quantile_deseason\")\n",
    "log_param(\"na_fill_type\", \"backfill\")\n",
    "log_param(\"threshold1\", str(3.4))\n",
    "log_param(\"threshold2\", str(1.5))\n",
    "log_metric(\"AreaUnderROC\", result)\n",
    "\n",
    "\"\"\"\n",
    "Currently, loading the model after saving it ends the run. In order to associate the current model with its params, I'm logging it again.\n",
    "The consequences of this are that useful model versions iterate by 2, and every other experiment run is empty\n",
    "\"\"\"\n",
    "mlflow.pyfunc.log_model(\n",
    "            python_model=UDFWrapper(),\n",
    "            registered_model_name=\"yahoo_model_deseason\",\n",
    "            artifact_path=\"yahoo_models\"\n",
    "        )\n",
    "mlflow.end_run()"
   ]
  }
 ],
 "metadata": {
  "kernelspec": {
   "display_name": "Python 3",
   "language": "python",
   "name": "python3"
  },
  "language_info": {
   "codemirror_mode": {
    "name": "ipython",
    "version": 3
   },
   "file_extension": ".py",
   "mimetype": "text/x-python",
   "name": "python",
   "nbconvert_exporter": "python",
   "pygments_lexer": "ipython3",
   "version": "3.7.4"
  }
 },
 "nbformat": 4,
 "nbformat_minor": 4
}
