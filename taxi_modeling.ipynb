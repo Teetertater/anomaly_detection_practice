{
 "cells": [
  {
   "cell_type": "code",
   "execution_count": 1,
   "metadata": {},
   "outputs": [],
   "source": [
    "from pyspark.sql import SparkSession\n",
    "from pyspark.sql import functions as f\n",
    "from pyspark.sql.types import StructType,StructField, StringType, IntegerType , BooleanType\n",
    "spark = SparkSession.builder.appName('taxi').getOrCreate()\n",
    "sc = spark.sparkContext"
   ]
  },
  {
   "cell_type": "code",
   "execution_count": 7,
   "metadata": {},
   "outputs": [
    {
     "name": "stdout",
     "output_type": "stream",
     "text": [
      "root\n",
      " |-- timestamp: string (nullable = true)\n",
      " |-- value: integer (nullable = true)\n",
      "\n",
      "+-------------------+-----+\n",
      "|timestamp          |value|\n",
      "+-------------------+-----+\n",
      "|2014-07-01 00:00:00|10844|\n",
      "|2014-07-01 00:30:00|8127 |\n",
      "|2014-07-01 01:00:00|6210 |\n",
      "|2014-07-01 01:30:00|4656 |\n",
      "|2014-07-01 02:00:00|3820 |\n",
      "+-------------------+-----+\n",
      "only showing top 5 rows\n",
      "\n"
     ]
    }
   ],
   "source": [
    "df = spark.read.options(header='true', inferschema='true').csv(\"nyc_taxi.csv\")\n",
    "df.printSchema()\n",
    "df.show(5,False)"
   ]
  },
  {
   "cell_type": "code",
   "execution_count": 22,
   "metadata": {},
   "outputs": [
    {
     "name": "stdout",
     "output_type": "stream",
     "text": [
      "10259.0 19838.0\n",
      "+-------------------+-----+\n",
      "|          timestamp|value|\n",
      "+-------------------+-----+\n",
      "|2014-09-06 22:30:00|30313|\n",
      "|2014-09-06 23:00:00|30373|\n",
      "|2014-11-02 01:00:00|39197|\n",
      "|2014-11-02 01:30:00|35212|\n",
      "|2015-01-01 01:00:00|30236|\n",
      "+-------------------+-----+\n",
      "\n"
     ]
    }
   ],
   "source": [
    "# Add predefined quantiles with rolling updates in the future\n",
    "THRESH = 1.075\n",
    "\n",
    "Q1, Q3 = df.approxQuantile(\"value\", [0.25,0.75],0.0)\n",
    "IQR = Q3 - Q1\n",
    "lower_thres = Q1 - THRESH*IQR\n",
    "upper_thres = Q3+ THRESH*IQR\n",
    "\n",
    "outliers = df.filter((f.col('value') < lower_thres) | (f.col('value') > upper_thres))\n",
    "outliers.show()"
   ]
  }
 ],
 "metadata": {
  "kernelspec": {
   "display_name": "Python 3",
   "language": "python",
   "name": "python3"
  },
  "language_info": {
   "codemirror_mode": {
    "name": "ipython",
    "version": 3
   },
   "file_extension": ".py",
   "mimetype": "text/x-python",
   "name": "python",
   "nbconvert_exporter": "python",
   "pygments_lexer": "ipython3",
   "version": "3.7.4"
  }
 },
 "nbformat": 4,
 "nbformat_minor": 4
}
