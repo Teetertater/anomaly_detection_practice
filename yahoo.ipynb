{
 "cells": [
  {
   "cell_type": "code",
   "execution_count": 1,
   "metadata": {},
   "outputs": [],
   "source": [
    "import findspark\n",
    "SPARK_HOME = %env SPARK_HOME\n",
    "findspark.init(SPARK_HOME)"
   ]
  },
  {
   "cell_type": "code",
   "execution_count": 2,
   "metadata": {},
   "outputs": [],
   "source": [
    "#import pandas as pd\n",
    "import numpy as np\n",
    "from matplotlib import pyplot as plt\n",
    "import seaborn as sns\n",
    "sns.set()\n",
    "import os\n",
    "from os import listdir\n",
    "\n",
    "from pyspark.sql import SparkSession\n",
    "from pyspark.sql import functions as F\n",
    "from pyspark.sql.types import StructType,StructField, StringType, IntegerType , BooleanType, DoubleType\n",
    "from pyspark.sql.window import Window\n",
    "\n",
    "from pyspark.ml.evaluation import BinaryClassificationEvaluator\n",
    "\n",
    "spark = SparkSession.builder.appName('yahoo').getOrCreate()\n",
    "sc = spark.sparkContext"
   ]
  },
  {
   "cell_type": "code",
   "execution_count": 105,
   "metadata": {},
   "outputs": [],
   "source": [
    "import mlflow\n",
    "from mlflow import log_metric, log_param, log_artifact, pyfunc\n",
    "from mlflow.pyfunc import PythonModel\n",
    "\n",
    "\"\"\"\n",
    "mlflow server \\\n",
    "    --backend-store-uri sqlite:///mlflow.db \\\n",
    "    --default-artifact-root ./artifacts \\\n",
    "    --host 0.0.0.0\n",
    "\"\"\"\n",
    "\n",
    "mlflow.set_tracking_uri(\"http://localhost:5000\")\n",
    "mlflow.set_experiment(\"yahoo\")"
   ]
  },
  {
   "cell_type": "markdown",
   "metadata": {},
   "source": [
    "## File imports and EDA"
   ]
  },
  {
   "cell_type": "code",
   "execution_count": 4,
   "metadata": {},
   "outputs": [
    {
     "name": "stdout",
     "output_type": "stream",
     "text": [
      "root\n",
      " |-- timestamp: integer (nullable = true)\n",
      " |-- value: double (nullable = true)\n",
      " |-- is_anomaly: integer (nullable = true)\n",
      "\n",
      "+----------+----------------+----------+\n",
      "|timestamp |value           |is_anomaly|\n",
      "+----------+----------------+----------+\n",
      "|1416726000|13.8940312022431|0         |\n",
      "|1416729600|33.5782735451433|0         |\n",
      "|1416733200|88.9337461757894|0         |\n",
      "|1416736800|125.38942370322 |0         |\n",
      "|1416740400|152.961999637907|0         |\n",
      "+----------+----------------+----------+\n",
      "only showing top 5 rows\n",
      "\n"
     ]
    }
   ],
   "source": [
    "file_prefix = \"yahoo_data/A2BENCHMARK/synthetic\"\n",
    "sdf = [spark.read.options(header='true', inferschema='true').csv(file_prefix+f\"_{i+1}.csv\") for i in range(100)]\n",
    "sdf[0].printSchema()\n",
    "sdf[0].show(5,False)"
   ]
  },
  {
   "cell_type": "code",
   "execution_count": 15,
   "metadata": {},
   "outputs": [
    {
     "data": {
      "text/plain": [
       "{4: 34, 9: 33, 1: 33}"
      ]
     },
     "execution_count": 15,
     "metadata": {},
     "output_type": "execute_result"
    }
   ],
   "source": [
    "anomaly_counts = [0]*100\n",
    "for i, d in enumerate(sdf):\n",
    "    anomaly_counts[i] = d.where(F.col(\"is_anomaly\")==1).count()\n",
    "dict((i, anomaly_counts.count(i)) for i in anomaly_counts)"
   ]
  },
  {
   "cell_type": "code",
   "execution_count": 16,
   "metadata": {},
   "outputs": [
    {
     "data": {
      "text/plain": [
       "<matplotlib.axes._subplots.AxesSubplot at 0x7f0004b4d690>"
      ]
     },
     "execution_count": 16,
     "metadata": {},
     "output_type": "execute_result"
    },
    {
     "data": {
      "image/png": "[encoded data removed]",
      "text/plain": [
       "<Figure size 432x288 with 1 Axes>"
      ]
     },
     "metadata": {},
     "output_type": "display_data"
    }
   ],
   "source": [
    "sdf[1].toPandas().value.plot()"
   ]
  },
  {
   "cell_type": "markdown",
   "metadata": {},
   "source": [
    "## Feature Engineering"
   ]
  },
  {
   "cell_type": "code",
   "execution_count": 5,
   "metadata": {},
   "outputs": [
    {
     "data": {
      "text/plain": [
       "[Row(timestamp=1416726000, value=27.1098884496337, is_anomaly=0, value_lag1=None, value_diff1=0.0),\n",
       " Row(timestamp=1416729600, value=40.7764421115744, is_anomaly=0, value_lag1=27.1098884496337, value_diff1=13.666553661940696),\n",
       " Row(timestamp=1416733200, value=122.541468931929, is_anomaly=0, value_lag1=40.7764421115744, value_diff1=81.7650268203546),\n",
       " Row(timestamp=1416736800, value=168.222793223618, is_anomaly=0, value_lag1=122.541468931929, value_diff1=45.681324291688995),\n",
       " Row(timestamp=1416740400, value=196.942108429181, is_anomaly=0, value_lag1=168.222793223618, value_diff1=28.719315205562992)]"
      ]
     },
     "execution_count": 5,
     "metadata": {},
     "output_type": "execute_result"
    }
   ],
   "source": [
    "ts_window = Window.partitionBy().orderBy(\"timestamp\")\n",
    "testdf = sdf[1].withColumn(\"value_lag1\", F.lag(F.col(\"value\")).over(ts_window))\n",
    "testdf = testdf.withColumn(\"value_diff1\", F.when(F.isnull(testdf.value - testdf.value_lag1), 0)\n",
    "                              .otherwise(testdf.value - testdf.value_lag1))\n",
    "testdf.head(5)"
   ]
  },
  {
   "cell_type": "code",
   "execution_count": 6,
   "metadata": {},
   "outputs": [
    {
     "name": "stdout",
     "output_type": "stream",
     "text": [
      "+----------+----------------+----------+----------------+------------------+------------------+-------------------+-----------------+\n",
      "| timestamp|           value|is_anomaly|      value_lag1|       value_diff1|               std|                 q1|               q3|\n",
      "+----------+----------------+----------+----------------+------------------+------------------+-------------------+-----------------+\n",
      "|1416726000|27.1098884496337|         0|            null|               0.0|108.78974285874885|-31.779107289380136|28.33858715540009|\n",
      "|1416729600|40.7764421115744|         0|27.1098884496337|13.666553661940696|108.78974285874885|-31.779107289380136|28.33858715540009|\n",
      "|1416733200|122.541468931929|         0|40.7764421115744|  81.7650268203546|108.78974285874885|-31.779107289380136|28.33858715540009|\n",
      "|1416736800|168.222793223618|         0|122.541468931929|45.681324291688995|108.78974285874885|-31.779107289380136|28.33858715540009|\n",
      "|1416740400|196.942108429181|         0|168.222793223618|28.719315205562992|108.78974285874885|-31.779107289380136|28.33858715540009|\n",
      "+----------+----------------+----------+----------------+------------------+------------------+-------------------+-----------------+\n",
      "only showing top 5 rows\n",
      "\n"
     ]
    }
   ],
   "source": [
    "quantiles = testdf.approxQuantile(\"value_diff1\", [0.25,0.75],0.05)\n",
    "testdf1 = testdf.join(testdf.agg(F.stddev(F.col(\"value_diff1\")).alias(\"std\")))\\\n",
    "                .withColumn(\"q1\", F.lit(quantiles[0]))\\\n",
    "                .withColumn(\"q3\", F.lit(quantiles[1]))\n",
    "testdf1.show(5)"
   ]
  },
  {
   "cell_type": "code",
   "execution_count": 172,
   "metadata": {},
   "outputs": [],
   "source": [
    "def predict_from_quants2(value_diff1: float, q1: float, q3: float) -> float:\n",
    "    threshold = 5\n",
    "    Q1 = float(q1)\n",
    "    Q3 = float(q3)\n",
    "    IQR = Q3 - Q1\n",
    "    return 1.0 if (float(value_diff1) < (Q1 - IQR*threshold) or float(value_diff1) > Q3 + IQR*threshold) else 0.0\n",
    "\n",
    "class UDFWrapper(PythonModel):\n",
    "    def __init__(self, estimator=None):\n",
    "        return None\n",
    "    def predict(self, context, X):\n",
    "        return np.array(list(map(predict_from_quants2(*x), X.to_numpy().T)))"
   ]
  },
  {
   "cell_type": "markdown",
   "metadata": {},
   "source": [
    "### Saving/Loading model"
   ]
  },
  {
   "cell_type": "code",
   "execution_count": 173,
   "metadata": {},
   "outputs": [
    {
     "name": "stderr",
     "output_type": "stream",
     "text": [
      "Registered model 'yahoo_model_quant' already exists. Creating a new version of this model...\n",
      "Created version '9' of model 'yahoo_model_quant'.\n"
     ]
    }
   ],
   "source": [
    "with mlflow.start_run():\n",
    "    mlflow.pyfunc.log_model(\n",
    "            python_model = UDFWrapper(),\n",
    "            registered_model_name = \"yahoo_model_quant\",\n",
    "            artifact_path = \"yahoo_models\"\n",
    "        )"
   ]
  },
  {
   "cell_type": "code",
   "execution_count": 174,
   "metadata": {},
   "outputs": [
    {
     "name": "stdout",
     "output_type": "stream",
     "text": [
      "+----------+----------------+----------+----------------+------------------+------------------+-------------------+-----------------+----------+\n",
      "| timestamp|           value|is_anomaly|      value_lag1|       value_diff1|               std|                 q1|               q3|prediction|\n",
      "+----------+----------------+----------+----------------+------------------+------------------+-------------------+-----------------+----------+\n",
      "|1416726000|27.1098884496337|         0|            null|               0.0|108.78974285874885|-31.779107289380136|28.33858715540009|       0.0|\n",
      "|1416729600|40.7764421115744|         0|27.1098884496337|13.666553661940696|108.78974285874885|-31.779107289380136|28.33858715540009|       0.0|\n",
      "|1416733200|122.541468931929|         0|40.7764421115744|  81.7650268203546|108.78974285874885|-31.779107289380136|28.33858715540009|       0.0|\n",
      "|1416736800|168.222793223618|         0|122.541468931929|45.681324291688995|108.78974285874885|-31.779107289380136|28.33858715540009|       0.0|\n",
      "|1416740400|196.942108429181|         0|168.222793223618|28.719315205562992|108.78974285874885|-31.779107289380136|28.33858715540009|       0.0|\n",
      "+----------+----------------+----------+----------------+------------------+------------------+-------------------+-----------------+----------+\n",
      "only showing top 5 rows\n",
      "\n"
     ]
    }
   ],
   "source": [
    "model_path = \"models:/yahoo_model_quant/6\"\n",
    "prediction_udf = mlflow.pyfunc.spark_udf(spark, model_path)\n",
    "columns = [\"value_diff1\", \"q1\", \"q3\"] \n",
    "predictdf = testdf1.withColumn('prediction', prediction_udf(*columns))\n",
    "predictdf.show(5)"
   ]
  },
  {
   "cell_type": "code",
   "execution_count": 176,
   "metadata": {},
   "outputs": [
    {
     "name": "stdout",
     "output_type": "stream",
     "text": [
      "0.665604343720491\n"
     ]
    },
    {
     "name": "stderr",
     "output_type": "stream",
     "text": [
      "Registered model 'yahoo_model_quant' already exists. Creating a new version of this model...\n",
      "Created version '10' of model 'yahoo_model_quant'.\n"
     ]
    }
   ],
   "source": [
    "evaluator = BinaryClassificationEvaluator().setRawPredictionCol(\"prediction\").setLabelCol(\"is_anomaly\")\n",
    "result = evaluator.evaluate(predictdf)\n",
    "print(result)\n",
    "log_artifact(\"yahoo.ipynb\", \"jup_logs\")\n",
    "log_param(\"type\", \"quantile\")\n",
    "log_param(\"threshold\", str(5))\n",
    "log_metric(\"AreaUnderROC\", result)\n",
    "\n",
    "\"\"\"\n",
    "Currently, loading the model after saving it ends the run. In order to associate the current model with its params, I'm logging it again.\n",
    "The consequences of this are that useful model versions iterate by 2, and every other experiment run is empty\n",
    "\"\"\"\n",
    "mlflow.pyfunc.log_model(\n",
    "            python_model=quantmodel,\n",
    "            registered_model_name=\"yahoo_model_quant\",\n",
    "            artifact_path=\"yahoo_models\"\n",
    "        )\n",
    "mlflow.end_run()"
   ]
  }
 ],
 "metadata": {
  "kernelspec": {
   "display_name": "Python 3",
   "language": "python",
   "name": "python3"
  },
  "language_info": {
   "codemirror_mode": {
    "name": "ipython",
    "version": 3
   },
   "file_extension": ".py",
   "mimetype": "text/x-python",
   "name": "python",
   "nbconvert_exporter": "python",
   "pygments_lexer": "ipython3",
   "version": "3.7.4"
  }
 },
 "nbformat": 4,
 "nbformat_minor": 4
}
